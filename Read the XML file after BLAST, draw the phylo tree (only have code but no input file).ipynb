{
 "cells": [
  {
   "cell_type": "code",
   "execution_count": null,
   "metadata": {},
   "outputs": [],
   "source": [
    "# read the resulted xml file from blastx via Diamond, the input XML file is still runing by using Diamond\n",
    "with open(\"my_blast.xml\", \"w\") as out_handle:\n",
    "    out_handle.write(result_handle.read())\n",
    "    result_handle.close()\n",
    "\n",
    "result_handle = open(\"my_blast.xml\")"
   ]
  },
  {
   "cell_type": "code",
   "execution_count": null,
   "metadata": {},
   "outputs": [],
   "source": [
    "from Bio.Blast import NCBIXML\n",
    "blast_records = NCBIXML.parse(result_handle)\n",
    "blast_record = next(blast_records)\n"
   ]
  },
  {
   "cell_type": "code",
   "execution_count": null,
   "metadata": {},
   "outputs": [],
   "source": [
    "# get a summary of the blastx results and filtered the E_value (set the E_value thred of 0.001)\n",
    "E_VALUE_THRESH = 0.001\n",
    "\n",
    "for alignment in blast_record.alignments:\n",
    "    for hsp in alignment.hsps:\n",
    "        if hsp.expect < E_VALUE_THRESH:\n",
    "             print(\"****Alignment****\\n\")\n",
    "                print(\"sequence:\", alignment.title,\"\\n\")\n",
    "                print(\"length:\", alignment.length,\"\\n\")\n",
    "                print(\"e value:\", hsp.expect,\"\\n\")"
   ]
  },
  {
   "cell_type": "code",
   "execution_count": null,
   "metadata": {},
   "outputs": [],
   "source": [
    "# The phylo.xml file is still expecting from the BLAST results\n",
    "from Bio import Phylo\n",
    "tree = Phylo.read(\"example.xml\", \"phyloxml\")\n",
    "Phylo.draw_ascii(tree)\n",
    "          "
   ]
  }
 ],
 "metadata": {
  "kernelspec": {
   "display_name": "Python 3",
   "language": "python",
   "name": "python3"
  },
  "language_info": {
   "codemirror_mode": {
    "name": "ipython",
    "version": 3
   },
   "file_extension": ".py",
   "mimetype": "text/x-python",
   "name": "python",
   "nbconvert_exporter": "python",
   "pygments_lexer": "ipython3",
   "version": "3.6.5"
  }
 },
 "nbformat": 4,
 "nbformat_minor": 2
}
