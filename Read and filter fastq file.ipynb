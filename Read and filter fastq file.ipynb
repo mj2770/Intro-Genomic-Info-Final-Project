{
 "cells": [
  {
   "cell_type": "code",
   "execution_count": 8,
   "metadata": {},
   "outputs": [],
   "source": [
    "from Bio import SeqIO\n",
    "import numpy as np\n",
    "import matplotlib.pyplot as plt\n",
    "\n",
    "import pandas as pd"
   ]
  },
  {
   "cell_type": "code",
   "execution_count": 14,
   "metadata": {},
   "outputs": [],
   "source": [
    "# read the five fastq file\n",
    "fastq_A_path = \"Transcriptome Sample A_fastq\"\n",
    "fastq_B_path = \"Transcriptome Sample B_fastq\"\n",
    "fastq_C_path = \"Transcriptome Sample C_fastq\"\n",
    "fastq_D_path = \"Transcriptome Sample D_fastq\"\n",
    "fastq_E_path = \"Transcriptome Sample E_fastq\"\n",
    "\n",
    "fastq1 = SeqIO.parse(fastq_A_path, \"fastq\")\n",
    "fastq2 = SeqIO.parse(fastq_B_path, \"fastq\")\n",
    "fastq3 = SeqIO.parse(fastq_C_path, \"fastq\")\n",
    "fastq4 = SeqIO.parse(fastq_D_path, \"fastq\")\n",
    "fastq5 = SeqIO.parse(fastq_E_path, \"fastq\")\n",
    "\n",
    "paired = zip(fastq1, fastq2, fastq3,fastq4,fastq5)\n",
    "\n",
    "fastqA,fastqB,fastqC,fastqD,fastqE =  paired.__next__()"
   ]
  },
  {
   "cell_type": "code",
   "execution_count": 15,
   "metadata": {
    "scrolled": true
   },
   "outputs": [],
   "source": [
    "#fastqA.description"
   ]
  },
  {
   "cell_type": "code",
   "execution_count": 16,
   "metadata": {},
   "outputs": [
    {
     "data": {
      "text/plain": [
       "Text(0,0.5,'phred_quality')"
      ]
     },
     "execution_count": 16,
     "metadata": {},
     "output_type": "execute_result"
    },
    {
     "data": {
      "image/png": "[encoded data removed]",
      "text/plain": [
       "<Figure size 1296x288 with 5 Axes>"
      ]
     },
     "metadata": {},
     "output_type": "display_data"
    }
   ],
   "source": [
    "# plot the different phred_quality in each of the five sample (only show the first seq. quality)\n",
    "fig, axarr = plt.subplots(1, 5)\n",
    "fig.set_size_inches(18, 4)\n",
    "axarr[0].bar(np.arange(len(fastqA)), fastqA.letter_annotations[\"phred_quality\"])\n",
    "axarr[0].set_title(\"Read {}_1\".format(fastqA.id))\n",
    "axarr[0].set_xlabel(\"base\")\n",
    "axarr[0].set_ylabel(\"phred_quality\")\n",
    "\n",
    "axarr[1].bar(np.arange(len(fastqB)), fastqB.letter_annotations[\"phred_quality\"])\n",
    "axarr[1].set_title(\"Read {}_1\".format(fastqB.id))\n",
    "axarr[1].set_xlabel(\"base\")\n",
    "axarr[1].set_ylabel(\"phred_quality\")\n",
    "\n",
    "axarr[2].bar(np.arange(len(fastqC)), fastqC.letter_annotations[\"phred_quality\"])\n",
    "axarr[2].set_title(\"Read {}_1\".format(fastqC.id))\n",
    "axarr[2].set_xlabel(\"base\")\n",
    "axarr[2].set_ylabel(\"phred_quality\")\n",
    "\n",
    "axarr[3].bar(np.arange(len(fastqD)), fastqD.letter_annotations[\"phred_quality\"])\n",
    "axarr[3].set_title(\"Read {}_1\".format(fastqD.id))\n",
    "axarr[3].set_xlabel(\"base\")\n",
    "axarr[3].set_ylabel(\"phred_quality\")\n",
    "\n",
    "axarr[4].bar(np.arange(len(fastqE)), fastqE.letter_annotations[\"phred_quality\"])\n",
    "axarr[4].set_title(\"Read {}_1\".format(fastqE.id))\n",
    "axarr[4].set_xlabel(\"base\")\n",
    "axarr[4].set_ylabel(\"phred_quality\")"
   ]
  },
  {
   "cell_type": "code",
   "execution_count": 21,
   "metadata": {
    "scrolled": true
   },
   "outputs": [
    {
     "name": "stdout",
     "output_type": "stream",
     "text": [
      "Found 16529 long sequences\n"
     ]
    },
    {
     "data": {
      "text/plain": [
       "16529"
      ]
     },
     "execution_count": 21,
     "metadata": {},
     "output_type": "execute_result"
    }
   ],
   "source": [
    "# Filtered the seq by discard short seq.\n",
    "fastqE_long =[]\n",
    "\n",
    "for record in SeqIO.parse(fastq_E_path, \"fastq\"):\n",
    "    if len(record.seq) > 60 :\n",
    "        # Add this record to our list\n",
    "        fastqE_long.append(record)\n",
    "\n",
    "print(\"Found %i long sequences\" % len(fastqE_long))\n",
    "\n",
    "SeqIO.write(fastqE_long, \"fastqE_long.fastq\", \"fastq\")"
   ]
  },
  {
   "cell_type": "code",
   "execution_count": 22,
   "metadata": {},
   "outputs": [
    {
     "name": "stdout",
     "output_type": "stream",
     "text": [
      "Found 842 long sequences\n"
     ]
    },
    {
     "data": {
      "text/plain": [
       "842"
      ]
     },
     "execution_count": 22,
     "metadata": {},
     "output_type": "execute_result"
    }
   ],
   "source": [
    "# filtered the seq. by set the quality threshold of 20\n",
    "fastqE_good =[]\n",
    "\n",
    "for rec in SeqIO.parse(\"fastqE_long.fastq\", \"fastq\"):\n",
    "    if min(rec.letter_annotations[\"phred_quality\"]) >= 20:\n",
    "        fastqE_good.append(rec)\n",
    "print(\"Found %i long sequences\" % len(fastqE_good))\n",
    "SeqIO.write(fastqE_good, \"E_good_quality.fastq\", \"fastq\")"
   ]
  },
  {
   "cell_type": "code",
   "execution_count": null,
   "metadata": {},
   "outputs": [],
   "source": []
  }
 ],
 "metadata": {
  "kernelspec": {
   "display_name": "Python 3",
   "language": "python",
   "name": "python3"
  },
  "language_info": {
   "codemirror_mode": {
    "name": "ipython",
    "version": 3
   },
   "file_extension": ".py",
   "mimetype": "text/x-python",
   "name": "python",
   "nbconvert_exporter": "python",
   "pygments_lexer": "ipython3",
   "version": "3.6.5"
  }
 },
 "nbformat": 4,
 "nbformat_minor": 2
}
